{
  "nbformat": 4,
  "nbformat_minor": 0,
  "metadata": {
    "colab": {
      "provenance": [],
      "toc_visible": true,
      "authorship_tag": "ABX9TyNu2v/Dj1IvggMndiHIaPT8",
      "include_colab_link": true
    },
    "kernelspec": {
      "name": "python3",
      "display_name": "Python 3"
    },
    "language_info": {
      "name": "python"
    }
  },
  "cells": [
    {
      "cell_type": "markdown",
      "metadata": {
        "id": "view-in-github",
        "colab_type": "text"
      },
      "source": [
        "<a href=\"https://colab.research.google.com/github/RonaldN21/Sistemas-disitribuidos/blob/master/Miercoles23_10_2024_Introducci%C3%B3n.ipynb\" target=\"_parent\"><img src=\"https://colab.research.google.com/assets/colab-badge.svg\" alt=\"Open In Colab\"/></a>"
      ]
    },
    {
      "cell_type": "code",
      "execution_count": 2,
      "metadata": {
        "colab": {
          "base_uri": "https://localhost:8080/"
        },
        "id": "D_Wvm-0jp1TF",
        "outputId": "c9e6ad95-4b00-448f-b050-d3201548ed37"
      },
      "outputs": [
        {
          "output_type": "stream",
          "name": "stdout",
          "text": [
            "3.10.12 (main, Sep 11 2024, 15:47:36) [GCC 11.4.0]\n"
          ]
        }
      ],
      "source": [
        "import sys\n",
        "print(sys.version)\n"
      ]
    },
    {
      "cell_type": "markdown",
      "source": [],
      "metadata": {
        "id": "kYvKJjrPskij"
      }
    },
    {
      "cell_type": "code",
      "source": [
        "numero = 5\n",
        "print(numero)\n",
        "nombre = \"Ronald\"\n",
        "print(f\"Mi nombre es {nombre}\")\n",
        "print(numero +10)\n",
        "print(numero - 5)\n",
        "print(numero * 3)\n",
        "print(numero / 2)\n",
        "print(numero **3)\n",
        "print(numero //1)\n",
        "print(numero %20)\n",
        "numero *= 2\n",
        "print(numero)\n",
        "print(type(numero))\n",
        "print(type(nombre))"
      ],
      "metadata": {
        "colab": {
          "base_uri": "https://localhost:8080/"
        },
        "id": "KpPPgo-8seZ-",
        "outputId": "7923fcd9-db02-471c-b065-2326c54de8eb"
      },
      "execution_count": 15,
      "outputs": [
        {
          "output_type": "stream",
          "name": "stdout",
          "text": [
            "5\n",
            "Mi nombre es Ronald\n",
            "15\n",
            "0\n",
            "15\n",
            "2.5\n",
            "125\n",
            "5\n",
            "5\n",
            "10\n",
            "<class 'int'>\n",
            "<class 'str'>\n"
          ]
        }
      ]
    },
    {
      "cell_type": "code",
      "source": [
        "t=True\n",
        "f=False\n",
        "print(t)\n",
        "print(f)\n",
        "print(type(t))\n",
        "print(type(f))\n",
        "print(t and f)\n",
        "print(t or f)\n",
        "print(not t)\n",
        "print(t != f)"
      ],
      "metadata": {
        "colab": {
          "base_uri": "https://localhost:8080/"
        },
        "id": "2TvLXq2nvrSn",
        "outputId": "6b610bc1-0fb1-4120-d9ee-2f0a57238eb0"
      },
      "execution_count": 16,
      "outputs": [
        {
          "output_type": "stream",
          "name": "stdout",
          "text": [
            "True\n",
            "False\n",
            "<class 'bool'>\n",
            "<class 'bool'>\n",
            "False\n",
            "True\n",
            "False\n",
            "True\n"
          ]
        }
      ]
    },
    {
      "cell_type": "code",
      "source": [
        "aux1=\"hello\"\n",
        "aux2=\"world\"\n",
        "print(aux1 + \" \" + aux2)\n",
        "print(aux1*4)\n",
        "print(aux1.capitalize())\n",
        "print(aux1.upper())\n",
        "aux3=\"RONALD\"\n",
        "print(aux3.lower())\n",
        "print(aux3.isupper())\n",
        "print(aux3.islower())\n",
        "print(len(aux3))\n",
        "print(aux3.replace(\"R\",\"J\"))\n",
        "print(aux3.replace(\"R\",\"J\",1))\n",
        "print(aux3.count(\"A\"))\n",
        "print(aux3.count(\"A\",0,3))"
      ],
      "metadata": {
        "colab": {
          "base_uri": "https://localhost:8080/"
        },
        "id": "aHaH6CoCwlX8",
        "outputId": "b8b81d51-11b1-4089-8903-cfd53f4e1f17"
      },
      "execution_count": 22,
      "outputs": [
        {
          "output_type": "stream",
          "name": "stdout",
          "text": [
            "hello world\n",
            "hellohellohellohello\n",
            "Hello\n",
            "HELLO\n",
            "ronald\n",
            "True\n",
            "False\n",
            "6\n",
            "JONALD\n",
            "JONALD\n",
            "1\n",
            "0\n"
          ]
        }
      ]
    },
    {
      "cell_type": "code",
      "source": [
        "lista=list()\n",
        "print(lista)\n",
        "lista.append(2)\n",
        "lista.append(\"hola\")\n",
        "lista.append(True)\n",
        "print(lista)\n",
        "print(lista[0])\n",
        "print(lista[1])\n",
        "print(lista[2])\n",
        "print(lista[-1])\n",
        "lista[1]=\"juan\"\n",
        "print(lista)\n",
        "lista2=[1,2,3,\"juan\",True]\n",
        "print(lista2)\n",
        "lista2.pop()\n",
        "print(lista2)\n"
      ],
      "metadata": {
        "colab": {
          "base_uri": "https://localhost:8080/"
        },
        "id": "DMwjWUyayKSr",
        "outputId": "0dd33031-9fdf-45c4-a510-6629d1a7abe6"
      },
      "execution_count": 31,
      "outputs": [
        {
          "output_type": "stream",
          "name": "stdout",
          "text": [
            "[]\n",
            "[2, 'hola', True]\n",
            "2\n",
            "hola\n",
            "True\n",
            "True\n",
            "[2, 'juan', True]\n",
            "[1, 2, 3, 'juan', True]\n",
            "[1, 2, 3, 'juan']\n"
          ]
        }
      ]
    },
    {
      "cell_type": "code",
      "source": [
        "temp111=list(range(100))\n",
        "for i in temp111:\n",
        "    print(i)\n",
        "print(temp111)"
      ],
      "metadata": {
        "colab": {
          "base_uri": "https://localhost:8080/"
        },
        "id": "P98uO2G40X4W",
        "outputId": "862f5158-0630-4c25-a266-b3ed8507c771"
      },
      "execution_count": 39,
      "outputs": [
        {
          "output_type": "stream",
          "name": "stdout",
          "text": [
            "0\n",
            "1\n",
            "2\n",
            "3\n",
            "4\n",
            "5\n",
            "6\n",
            "7\n",
            "8\n",
            "9\n",
            "10\n",
            "11\n",
            "12\n",
            "13\n",
            "14\n",
            "15\n",
            "16\n",
            "17\n",
            "18\n",
            "19\n",
            "20\n",
            "21\n",
            "22\n",
            "23\n",
            "24\n",
            "25\n",
            "26\n",
            "27\n",
            "28\n",
            "29\n",
            "30\n",
            "31\n",
            "32\n",
            "33\n",
            "34\n",
            "35\n",
            "36\n",
            "37\n",
            "38\n",
            "39\n",
            "40\n",
            "41\n",
            "42\n",
            "43\n",
            "44\n",
            "45\n",
            "46\n",
            "47\n",
            "48\n",
            "49\n",
            "50\n",
            "51\n",
            "52\n",
            "53\n",
            "54\n",
            "55\n",
            "56\n",
            "57\n",
            "58\n",
            "59\n",
            "60\n",
            "61\n",
            "62\n",
            "63\n",
            "64\n",
            "65\n",
            "66\n",
            "67\n",
            "68\n",
            "69\n",
            "70\n",
            "71\n",
            "72\n",
            "73\n",
            "74\n",
            "75\n",
            "76\n",
            "77\n",
            "78\n",
            "79\n",
            "80\n",
            "81\n",
            "82\n",
            "83\n",
            "84\n",
            "85\n",
            "86\n",
            "87\n",
            "88\n",
            "89\n",
            "90\n",
            "91\n",
            "92\n",
            "93\n",
            "94\n",
            "95\n",
            "96\n",
            "97\n",
            "98\n",
            "99\n",
            "[0, 1, 2, 3, 4, 5, 6, 7, 8, 9, 10, 11, 12, 13, 14, 15, 16, 17, 18, 19, 20, 21, 22, 23, 24, 25, 26, 27, 28, 29, 30, 31, 32, 33, 34, 35, 36, 37, 38, 39, 40, 41, 42, 43, 44, 45, 46, 47, 48, 49, 50, 51, 52, 53, 54, 55, 56, 57, 58, 59, 60, 61, 62, 63, 64, 65, 66, 67, 68, 69, 70, 71, 72, 73, 74, 75, 76, 77, 78, 79, 80, 81, 82, 83, 84, 85, 86, 87, 88, 89, 90, 91, 92, 93, 94, 95, 96, 97, 98, 99]\n"
          ]
        }
      ]
    },
    {
      "cell_type": "markdown",
      "source": [
        "Fin de clase 23 octrubre del 2024 IA"
      ],
      "metadata": {
        "id": "kds1OZz_1bxp"
      }
    }
  ]
}